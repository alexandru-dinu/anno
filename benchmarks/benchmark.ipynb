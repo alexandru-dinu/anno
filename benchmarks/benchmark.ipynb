{
 "cells": [
  {
   "cell_type": "code",
   "execution_count": null,
   "id": "1a9f72c2",
   "metadata": {},
   "outputs": [],
   "source": [
    "import numpy as np\n",
    "import matplotlib.pyplot as plt\n",
    "import seaborn as sns\n",
    "from sklearn.linear_model import LinearRegression\n",
    "\n",
    "%matplotlib inline\n",
    "%config InlineBackend.figure_format = 'retina'\n",
    "sns.set()"
   ]
  },
  {
   "cell_type": "code",
   "execution_count": null,
   "id": "4ed25fc9",
   "metadata": {},
   "outputs": [],
   "source": [
    "def f(x):\n",
    "    s, t, *_ = x.split('\\n')\n",
    "    s = int(s) / 2**30\n",
    "    t = float(t.split()[-1][:-1].lstrip('0m'))\n",
    "    return (s,t)"
   ]
  },
  {
   "cell_type": "code",
   "execution_count": null,
   "id": "e5c060d8",
   "metadata": {},
   "outputs": [],
   "source": [
    "with open('./benchmark.txt', 'rt') as fp:\n",
    "    xs = fp.read()\n",
    "\n",
    "ss, ts = map(np.array, zip(*[f(x) for x in xs.strip().split('\\n\\n')]))"
   ]
  },
  {
   "cell_type": "code",
   "execution_count": null,
   "id": "6359e2a5",
   "metadata": {},
   "outputs": [],
   "source": [
    "model = LinearRegression(fit_intercept=True)\n",
    "\n",
    "X = ss.reshape(-1, 1)\n",
    "y = ts\n",
    "\n",
    "model.fit(X, y)\n",
    "model.score(X, y)\n",
    "\n",
    "m, b = map(lambda x: round(x, 5), (model.coef_.item(), model.intercept_.item()))"
   ]
  },
  {
   "cell_type": "code",
   "execution_count": null,
   "id": "f8d92992",
   "metadata": {},
   "outputs": [],
   "source": [
    "plt.figure(figsize=(14, 8))\n",
    "plt.scatter(ss, ts, s=40, c='teal', alpha=0.5)\n",
    "plt.xticks(np.linspace(0, ss.max(), 21))\n",
    "plt.yticks(np.linspace(0, 6, 13))\n",
    "plt.xlabel('Size (GB)')\n",
    "plt.ylabel('Time (s)')\n",
    "plt.title('Raw sha256 time vs size', fontsize=14)\n",
    "\n",
    "plt.plot(ss, m * ss + b, label=f'{m} * size + {b}', color='red', lw=2)\n",
    "plt.legend()\n",
    "\n",
    "pass"
   ]
  },
  {
   "cell_type": "code",
   "execution_count": null,
   "id": "7e689bb2",
   "metadata": {},
   "outputs": [],
   "source": []
  }
 ],
 "metadata": {
  "kernelspec": {
   "display_name": "Python 3 (ipykernel)",
   "language": "python",
   "name": "python3"
  },
  "language_info": {
   "codemirror_mode": {
    "name": "ipython",
    "version": 3
   },
   "file_extension": ".py",
   "mimetype": "text/x-python",
   "name": "python",
   "nbconvert_exporter": "python",
   "pygments_lexer": "ipython3",
   "version": "3.9.13"
  }
 },
 "nbformat": 4,
 "nbformat_minor": 5
}
